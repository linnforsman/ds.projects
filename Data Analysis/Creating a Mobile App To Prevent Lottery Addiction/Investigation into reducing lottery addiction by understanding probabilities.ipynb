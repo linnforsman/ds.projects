{
 "cells": [
  {
   "cell_type": "markdown",
   "source": [
    "# Investigation into reducing lottery addiction by understanding probabilities\r\n",
    "\r\n",
    "## Introduction\r\n",
    "In this project, we are going to contribute to the development of a mobile app by writing a couple of functions that is meant to help lottery addicts better estimate their chances of winning and, hopefully, to prevent them from this dangerous habit.\r\n",
    "\r\n",
    "We'll focus on the [6/49 lottery](https://www.wikiwand.com/en/Lotto_6/49), where six numbers are drawn from a set of 49 (from 1 to 49) for each ticket, and a player wins the big prize if the six numbers on their tickets match all the six numbers drawn. Our goal is to create the logical core of the app and build functions that enable users to answer these questions:\r\n",
    "\r\n",
    "- What is the probability of winning the big prize with a single ticket?\r\n",
    "- What is the probability of winning the big prize if we play 40 different tickets (or any other number)?\r\n",
    "- What is the probability of having at least five (or four, or three, or two) winning numbers on a single ticket?\r\n",
    "\r\n",
    "The historical data used in this project comes from the national 6/49 lottery game in Canada. The [dataset](https://www.kaggle.com/datascienceai/lottery-dataset) counts 3,665 drawings, dating from 1982 to 2018.\r\n"
   ],
   "metadata": {}
  },
  {
   "cell_type": "markdown",
   "source": [
    "# Core Functions\n",
    "We're going to write two functions that we'll be using frequently:\n",
    "- `factorial()` - a function that calculates factorials\n",
    "- `combinations()`- a function that calculates combinations"
   ],
   "metadata": {}
  },
  {
   "cell_type": "code",
   "execution_count": 1,
   "source": [
    "# Function to find factorial\r\n",
    "def factorial(n):\r\n",
    "    product = 1\r\n",
    "    for i in range(n):\r\n",
    "        product *= i+1\r\n",
    "    return product\r\n",
    "\r\n",
    "# Function to find combination\r\n",
    "def combinations(n,k):\r\n",
    "    return factorial(n)/(factorial(k)*factorial(n-k))"
   ],
   "outputs": [],
   "metadata": {
    "collapsed": true
   }
  },
  {
   "cell_type": "markdown",
   "source": [
    "Now we can use these functions to calculate the probability of winning the 6/49 lottery with just one ticket. The user can input a list of 6 numbers and see how likely they are to win."
   ],
   "metadata": {}
  },
  {
   "cell_type": "markdown",
   "source": [
    "# One-Ticket Probability"
   ],
   "metadata": {}
  },
  {
   "cell_type": "code",
   "execution_count": 2,
   "source": [
    "# Function to find probability of winning lottery with one ticket\r\n",
    "def one_ticket_probability(list_of_6):\r\n",
    "    # Only accept lists of 6\r\n",
    "    if len(list_of_6) != 6:\r\n",
    "        return \"Please enter 6 numbers\"\r\n",
    "    # Only accept whole numbers\r\n",
    "    for n in list_of_6:\r\n",
    "        if type(n) != int:\r\n",
    "            return \"Must be whole numbers\"\r\n",
    "        # Only accept numbers between 1 and 49\r\n",
    "        if n == 0 or n > 49:\r\n",
    "            return \"Numbers must be between 1 and 49\"\r\n",
    "    # Total outcomes\r\n",
    "    outcomes = combinations(49, len(list_of_6))\r\n",
    "    # Total successful ooutcomes\r\n",
    "    succesful_outcomes = 1\r\n",
    "    percentage = (succesful_outcomes / outcomes) * 100\r\n",
    "    return \"You have a {:8f}% chance of winning the lottery with these numbers.\".format(percentage)\r\n",
    "\r\n",
    "test = one_ticket_probability([1, 2, 3, 4, 5, 7])\r\n",
    "test"
   ],
   "outputs": [
    {
     "output_type": "execute_result",
     "data": {
      "text/plain": [
       "'You have a 0.000007% chance of winning the lottery with these numbers.'"
      ]
     },
     "metadata": {},
     "execution_count": 2
    }
   ],
   "metadata": {
    "collapsed": false
   }
  },
  {
   "cell_type": "markdown",
   "source": [
    "# Historical Data Check for Canada Lottery\n",
    "We wrote a function that tells users what the probability of winning the big prize with a single ticket. Another feature of our application should let users compare their ticket against the historical lottery data in Canada and determine whetehert they would have ever won by now. We're going to write a function to implement this feature. \n",
    "\n",
    "Before we do that, we'll do necessary inspection and get familiar with the dataset and its structure."
   ],
   "metadata": {}
  },
  {
   "cell_type": "code",
   "execution_count": 3,
   "source": [
    "import pandas as pd\n",
    "lottery = pd.read_csv('649.csv')\n",
    "\n",
    "print('Number of rows: ', lottery.shape[0], '\\nNumber of columns: ', lottery.shape[1])\n",
    "lottery.head(3)"
   ],
   "outputs": [
    {
     "output_type": "stream",
     "name": "stdout",
     "text": [
      "Number of rows:  3665 \n",
      "Number of columns:  11\n"
     ]
    },
    {
     "output_type": "execute_result",
     "data": {
      "text/html": [
       "<div>\n",
       "<style scoped>\n",
       "    .dataframe tbody tr th:only-of-type {\n",
       "        vertical-align: middle;\n",
       "    }\n",
       "\n",
       "    .dataframe tbody tr th {\n",
       "        vertical-align: top;\n",
       "    }\n",
       "\n",
       "    .dataframe thead th {\n",
       "        text-align: right;\n",
       "    }\n",
       "</style>\n",
       "<table border=\"1\" class=\"dataframe\">\n",
       "  <thead>\n",
       "    <tr style=\"text-align: right;\">\n",
       "      <th></th>\n",
       "      <th>PRODUCT</th>\n",
       "      <th>DRAW NUMBER</th>\n",
       "      <th>SEQUENCE NUMBER</th>\n",
       "      <th>DRAW DATE</th>\n",
       "      <th>NUMBER DRAWN 1</th>\n",
       "      <th>NUMBER DRAWN 2</th>\n",
       "      <th>NUMBER DRAWN 3</th>\n",
       "      <th>NUMBER DRAWN 4</th>\n",
       "      <th>NUMBER DRAWN 5</th>\n",
       "      <th>NUMBER DRAWN 6</th>\n",
       "      <th>BONUS NUMBER</th>\n",
       "    </tr>\n",
       "  </thead>\n",
       "  <tbody>\n",
       "    <tr>\n",
       "      <th>0</th>\n",
       "      <td>649</td>\n",
       "      <td>1</td>\n",
       "      <td>0</td>\n",
       "      <td>6/12/1982</td>\n",
       "      <td>3</td>\n",
       "      <td>11</td>\n",
       "      <td>12</td>\n",
       "      <td>14</td>\n",
       "      <td>41</td>\n",
       "      <td>43</td>\n",
       "      <td>13</td>\n",
       "    </tr>\n",
       "    <tr>\n",
       "      <th>1</th>\n",
       "      <td>649</td>\n",
       "      <td>2</td>\n",
       "      <td>0</td>\n",
       "      <td>6/19/1982</td>\n",
       "      <td>8</td>\n",
       "      <td>33</td>\n",
       "      <td>36</td>\n",
       "      <td>37</td>\n",
       "      <td>39</td>\n",
       "      <td>41</td>\n",
       "      <td>9</td>\n",
       "    </tr>\n",
       "    <tr>\n",
       "      <th>2</th>\n",
       "      <td>649</td>\n",
       "      <td>3</td>\n",
       "      <td>0</td>\n",
       "      <td>6/26/1982</td>\n",
       "      <td>1</td>\n",
       "      <td>6</td>\n",
       "      <td>23</td>\n",
       "      <td>24</td>\n",
       "      <td>27</td>\n",
       "      <td>39</td>\n",
       "      <td>34</td>\n",
       "    </tr>\n",
       "  </tbody>\n",
       "</table>\n",
       "</div>"
      ],
      "text/plain": [
       "   PRODUCT  DRAW NUMBER  SEQUENCE NUMBER  DRAW DATE  NUMBER DRAWN 1  \\\n",
       "0      649            1                0  6/12/1982               3   \n",
       "1      649            2                0  6/19/1982               8   \n",
       "2      649            3                0  6/26/1982               1   \n",
       "\n",
       "   NUMBER DRAWN 2  NUMBER DRAWN 3  NUMBER DRAWN 4  NUMBER DRAWN 5  \\\n",
       "0              11              12              14              41   \n",
       "1              33              36              37              39   \n",
       "2               6              23              24              27   \n",
       "\n",
       "   NUMBER DRAWN 6  BONUS NUMBER  \n",
       "0              43            13  \n",
       "1              41             9  \n",
       "2              39            34  "
      ]
     },
     "metadata": {},
     "execution_count": 3
    }
   ],
   "metadata": {
    "collapsed": false
   }
  },
  {
   "cell_type": "code",
   "execution_count": 4,
   "source": [
    "lottery.tail(3)"
   ],
   "outputs": [
    {
     "output_type": "execute_result",
     "data": {
      "text/html": [
       "<div>\n",
       "<style scoped>\n",
       "    .dataframe tbody tr th:only-of-type {\n",
       "        vertical-align: middle;\n",
       "    }\n",
       "\n",
       "    .dataframe tbody tr th {\n",
       "        vertical-align: top;\n",
       "    }\n",
       "\n",
       "    .dataframe thead th {\n",
       "        text-align: right;\n",
       "    }\n",
       "</style>\n",
       "<table border=\"1\" class=\"dataframe\">\n",
       "  <thead>\n",
       "    <tr style=\"text-align: right;\">\n",
       "      <th></th>\n",
       "      <th>PRODUCT</th>\n",
       "      <th>DRAW NUMBER</th>\n",
       "      <th>SEQUENCE NUMBER</th>\n",
       "      <th>DRAW DATE</th>\n",
       "      <th>NUMBER DRAWN 1</th>\n",
       "      <th>NUMBER DRAWN 2</th>\n",
       "      <th>NUMBER DRAWN 3</th>\n",
       "      <th>NUMBER DRAWN 4</th>\n",
       "      <th>NUMBER DRAWN 5</th>\n",
       "      <th>NUMBER DRAWN 6</th>\n",
       "      <th>BONUS NUMBER</th>\n",
       "    </tr>\n",
       "  </thead>\n",
       "  <tbody>\n",
       "    <tr>\n",
       "      <th>3662</th>\n",
       "      <td>649</td>\n",
       "      <td>3589</td>\n",
       "      <td>0</td>\n",
       "      <td>6/13/2018</td>\n",
       "      <td>6</td>\n",
       "      <td>22</td>\n",
       "      <td>24</td>\n",
       "      <td>31</td>\n",
       "      <td>32</td>\n",
       "      <td>34</td>\n",
       "      <td>16</td>\n",
       "    </tr>\n",
       "    <tr>\n",
       "      <th>3663</th>\n",
       "      <td>649</td>\n",
       "      <td>3590</td>\n",
       "      <td>0</td>\n",
       "      <td>6/16/2018</td>\n",
       "      <td>2</td>\n",
       "      <td>15</td>\n",
       "      <td>21</td>\n",
       "      <td>31</td>\n",
       "      <td>38</td>\n",
       "      <td>49</td>\n",
       "      <td>8</td>\n",
       "    </tr>\n",
       "    <tr>\n",
       "      <th>3664</th>\n",
       "      <td>649</td>\n",
       "      <td>3591</td>\n",
       "      <td>0</td>\n",
       "      <td>6/20/2018</td>\n",
       "      <td>14</td>\n",
       "      <td>24</td>\n",
       "      <td>31</td>\n",
       "      <td>35</td>\n",
       "      <td>37</td>\n",
       "      <td>48</td>\n",
       "      <td>17</td>\n",
       "    </tr>\n",
       "  </tbody>\n",
       "</table>\n",
       "</div>"
      ],
      "text/plain": [
       "      PRODUCT  DRAW NUMBER  SEQUENCE NUMBER  DRAW DATE  NUMBER DRAWN 1  \\\n",
       "3662      649         3589                0  6/13/2018               6   \n",
       "3663      649         3590                0  6/16/2018               2   \n",
       "3664      649         3591                0  6/20/2018              14   \n",
       "\n",
       "      NUMBER DRAWN 2  NUMBER DRAWN 3  NUMBER DRAWN 4  NUMBER DRAWN 5  \\\n",
       "3662              22              24              31              32   \n",
       "3663              15              21              31              38   \n",
       "3664              24              31              35              37   \n",
       "\n",
       "      NUMBER DRAWN 6  BONUS NUMBER  \n",
       "3662              34            16  \n",
       "3663              49             8  \n",
       "3664              48            17  "
      ]
     },
     "metadata": {},
     "execution_count": 4
    }
   ],
   "metadata": {
    "collapsed": false
   }
  },
  {
   "cell_type": "markdown",
   "source": [
    "The dataframe contains 11 columns with self-explanatory names, including the columns for each of the six drawn numbers + a bonus. There are no missing values in the dataframe."
   ],
   "metadata": {}
  },
  {
   "cell_type": "markdown",
   "source": [
    "## Function for Historical Data Check\n",
    "Now, let's write function for comparing any ticket with historical lottery data in Canada. The output will be:\n",
    "- the number of times the combination selected occured in the Canada data set; and\n",
    "- the probability of winning the big prize in the next drawing with that combination."
   ],
   "metadata": {}
  },
  {
   "cell_type": "code",
   "execution_count": 6,
   "source": [
    "# Extract lottery draws from dataset\n",
    "def extract_numbers(row):\n",
    "    the_list = []\n",
    "    for i in row[4:10]:\n",
    "        the_list.append(i)\n",
    "    return set(the_list)\n",
    "\n",
    "# Apply function to Dataset\n",
    "winning_numbers = lottery.apply(extract_numbers, axis=1)\n",
    "\n",
    "# Function to find if numbers have ever won before\n",
    "def check_historical_occurence(user_nums):\n",
    "    user_nums = set(user_nums)\n",
    "    matches = 0\n",
    "    for sets in winning_numbers:\n",
    "        if user_nums == sets:\n",
    "            matches += 1\n",
    "    return 'Your numbers have won the lottery the following number of times: {} .'.format(matches)\n",
    "\n",
    "# Test\n",
    "test = check_historical_occurence([4, 41, 11, 12, 43, 14])\n",
    "test"
   ],
   "outputs": [
    {
     "output_type": "execute_result",
     "data": {
      "text/plain": [
       "'Your numbers have won the lottery the following number of times: 0 .'"
      ]
     },
     "metadata": {},
     "execution_count": 6
    }
   ],
   "metadata": {
    "collapsed": false
   }
  },
  {
   "cell_type": "markdown",
   "source": [
    "The next function will take in a list of 6 numbers and return both the probability of winning and the number of times those numbers those numbers have won in past draws."
   ],
   "metadata": {}
  },
  {
   "cell_type": "code",
   "execution_count": 8,
   "source": [
    "# Function to show probability and historic occurences\n",
    "def probability_and_historic(user_nums):\n",
    "    a = check_historical_occurence(user_nums)\n",
    "    b = one_ticket_probability(user_nums)\n",
    "    return \"\"\"\n",
    "    {}\n",
    "    \n",
    "    {}\n",
    "    \"\"\".format(a, b)\n",
    "# Test\n",
    "print(probability_and_historic([4, 41, 11, 12, 43, 14]))"
   ],
   "outputs": [
    {
     "output_type": "stream",
     "name": "stdout",
     "text": [
      "\n",
      "    Your numbers have won the lottery the following number of times: 0 .\n",
      "    \n",
      "    You have a 0.000007% chance of winning the lottery with these numbers.\n",
      "    \n"
     ]
    }
   ],
   "metadata": {
    "collapsed": false
   }
  },
  {
   "cell_type": "markdown",
   "source": [
    "The odds are small. However, some people buy multiple tickets. Let's see if this improves their odds:"
   ],
   "metadata": {}
  },
  {
   "cell_type": "markdown",
   "source": [
    "## Multi-ticket Probability\n"
   ],
   "metadata": {}
  },
  {
   "cell_type": "code",
   "execution_count": 9,
   "source": [
    "# Function to check probability with multiple tickets\n",
    "def multi_ticket_probability(n):\n",
    "    outcomes = combinations(49, 6)\n",
    "    success_outcomes = n\n",
    "    percentage = (success_outcomes / outcomes) * 100\n",
    "    return \"You have a {:8f}% chance of winning the lottery with {} tickets\".format(percentage, n)\n",
    "\n",
    "# Test\n",
    "for i in range(10000, 100000, 20000):\n",
    "    print(multi_ticket_probability(i))\n",
    "    print(\"-----------------------------------------------------\")"
   ],
   "outputs": [
    {
     "output_type": "stream",
     "name": "stdout",
     "text": [
      "You have a 0.071511% chance of winning the lottery with 10000 tickets\n",
      "-----------------------------------------------------\n",
      "You have a 0.214534% chance of winning the lottery with 30000 tickets\n",
      "-----------------------------------------------------\n",
      "You have a 0.357556% chance of winning the lottery with 50000 tickets\n",
      "-----------------------------------------------------\n",
      "You have a 0.500579% chance of winning the lottery with 70000 tickets\n",
      "-----------------------------------------------------\n",
      "You have a 0.643601% chance of winning the lottery with 90000 tickets\n",
      "-----------------------------------------------------\n"
     ]
    }
   ],
   "metadata": {
    "collapsed": false
   }
  },
  {
   "cell_type": "markdown",
   "source": [
    "## Less Winning Numbers - Function\n",
    "Now we're going to create a function that calculates the probability of having two, three, four or five winning numbers."
   ],
   "metadata": {}
  },
  {
   "cell_type": "code",
   "execution_count": 10,
   "source": [
    "# Function to check probabilites of matching 5, 4, 3 and 2 numbers\n",
    "def probability_less_6(n):\n",
    "    if n < 2 or n > 6 or type(n) != int:\n",
    "        return \"Invalid number\"\n",
    "    \n",
    "    number_combinations = combinations(6, n)\n",
    "    success_per_combination = combinations(43, 6-n) \n",
    "    \n",
    "    successful_outcomes = number_combinations * success_per_combination\n",
    "    outcomes = combinations(49, 6)\n",
    "    \n",
    "    percentage = (successful_outcomes / outcomes) * 100\n",
    "    return \"You have a {:8f}% chance of matching {} numbers\".format(percentage, n)\n",
    "\n",
    "# Test\n",
    "for i in range(5, 1, -1):\n",
    "    print(probability_less_6(i))"
   ],
   "outputs": [
    {
     "output_type": "stream",
     "name": "stdout",
     "text": [
      "You have a 0.001845% chance of matching 5 numbers\n",
      "You have a 0.096862% chance of matching 4 numbers\n",
      "You have a 1.765040% chance of matching 3 numbers\n",
      "You have a 13.237803% chance of matching 2 numbers\n"
     ]
    }
   ],
   "metadata": {
    "collapsed": false
   }
  },
  {
   "cell_type": "code",
   "execution_count": 11,
   "source": [
    "# Function to check probabilites of matching at least 5, 4, 3 and 2 numbers\n",
    "def probability_at_least(n):\n",
    "    if n < 2 or n > 6 or type(n) != int:\n",
    "        return \"Invalid number\"\n",
    "    \n",
    "    number_combinations = combinations(6, n)\n",
    "    success_per_combination = combinations(44, 6-n) \n",
    "    \n",
    "    successful_outcomes = number_combinations * success_per_combination\n",
    "    outcomes = combinations(49, 6)\n",
    "    \n",
    "    percentage = (successful_outcomes / outcomes) * 100\n",
    "    return \"You have a {:8f}% chance of matching at least {} numbers\".format(percentage, n)\n",
    "\n",
    "# Test\n",
    "for i in range(5, 1, -1):\n",
    "    print(probability_at_least(i))\n",
    "    print(\"-----------------------------------------------------\")"
   ],
   "outputs": [
    {
     "output_type": "stream",
     "name": "stdout",
     "text": [
      "You have a 0.001888% chance of matching at least 5 numbers\n",
      "-----------------------------------------------------\n",
      "You have a 0.101474% chance of matching at least 4 numbers\n",
      "-----------------------------------------------------\n",
      "You have a 1.894190% chance of matching at least 3 numbers\n",
      "-----------------------------------------------------\n",
      "You have a 14.561583% chance of matching at least 2 numbers\n",
      "-----------------------------------------------------\n"
     ]
    }
   ],
   "metadata": {
    "collapsed": false
   }
  },
  {
   "cell_type": "markdown",
   "source": [
    "## Compare Odds to Other Events"
   ],
   "metadata": {}
  },
  {
   "cell_type": "code",
   "execution_count": 12,
   "source": [
    "# Import random module\n",
    "import random\n",
    "\n",
    "# Lottery outcomes\n",
    "lottery = 13983816\n",
    "\n",
    "# Comparison function\n",
    "def compare_odds():\n",
    "    n = random.randint(1, 7)\n",
    "    if n == 1:\n",
    "        return \"You are {} times more likely to be killed by a shark than win the 6/49 lottery\".format(round(lottery \n",
    "                                                                                                       / 3700000, 2))\n",
    "    if n == 2:\n",
    "        return \"You are {} times more likely to succesfully apply to be a NASA Astronaut than win the 6/49 lottery\".format(round(lottery \n",
    "                                                                                                       / 1525, 2))\n",
    "    if n == 3:\n",
    "        return \"You are {} times more likely to be injured by a toilet than win the 6/49 lottery\".format(round(lottery \n",
    "                                                                                                       / 10000, 2))\n",
    "    if n == 4:\n",
    "        return \"You are {} times more likely to be struck by lightning than win the 6/49 lottery\".format(round(lottery \n",
    "                                                                                                       / 114195, 2))\n",
    "    if n == 5:\n",
    "        return \"You are {} times more likely to meet the love of your life tomorrow than win the 6/49 lottery\".format(round(lottery \n",
    "                                                                                                       / 562, 2))\n",
    "    if n == 6:\n",
    "        return \"You are {} times more likely to win an Olympic Gold than win the 6/49 lottery\".format(round(lottery / 662000, 2))\n",
    "    if n == 7:\n",
    "        return \"You are {} times more likely to win an Oscar than win the 6/49 lottery\".format(round(lottery / 3700000, 2))\n",
    "\n",
    "# Test\n",
    "compare_odds()"
   ],
   "outputs": [
    {
     "output_type": "execute_result",
     "data": {
      "text/plain": [
       "'You are 3.78 times more likely to be killed by a shark than win the 6/49 lottery'"
      ]
     },
     "metadata": {},
     "execution_count": 12
    }
   ],
   "metadata": {
    "collapsed": false
   }
  },
  {
   "cell_type": "markdown",
   "source": [
    "# Conclusion\n",
    "The odds are to win the 6/49 are very bad. Even if you buy many tickets or are happy to match a few numbers. The medical institute need to use the odds, create the app and help those who are adddicted.\n"
   ],
   "metadata": {}
  }
 ],
 "metadata": {
  "kernelspec": {
   "display_name": "Python 3",
   "language": "python",
   "name": "python3"
  },
  "language_info": {
   "codemirror_mode": {
    "name": "ipython",
    "version": 3
   },
   "file_extension": ".py",
   "mimetype": "text/x-python",
   "name": "python",
   "nbconvert_exporter": "python",
   "pygments_lexer": "ipython3",
   "version": "3.4.3"
  }
 },
 "nbformat": 4,
 "nbformat_minor": 2
}